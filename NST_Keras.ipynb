{
 "cells": [
  {
   "cell_type": "code",
   "execution_count": 1,
   "metadata": {},
   "outputs": [
    {
     "name": "stderr",
     "output_type": "stream",
     "text": [
      "Using TensorFlow backend.\n"
     ]
    }
   ],
   "source": [
    "\n",
    "from __future__ import print_function\n",
    "from keras.preprocessing.image import load_img, save_img, img_to_array\n",
    "import numpy as np\n",
    "from scipy.optimize import fmin_l_bfgs_b\n",
    "import time\n",
    "import argparse\n",
    "\n",
    "from keras.applications import vgg19\n",
    "from keras import backend as K"
   ]
  },
  {
   "cell_type": "code",
   "execution_count": 2,
   "metadata": {},
   "outputs": [],
   "source": [
    "\n",
    "#Assign hyperparamters and intialize data\n",
    "content_image_path='japanese_garden.jpg'\n",
    "style_image_path='picasso_selfportrait.jpg'\n",
    "result_name='japanese_garden_by_picasso'\n",
    "iterations=6\n",
    "content_weight_parameter=1*pow(10,-9)\n",
    "style_weight_parameter=4*pow(10,-8)\n",
    "total_variation_weight=4*pow(10,-8)\n",
    "total_variation_loss_factor=1.25\n"
   ]
  },
  {
   "cell_type": "code",
   "execution_count": 3,
   "metadata": {},
   "outputs": [],
   "source": [
    "\n",
    "#make dimensions of the pictures to be generated\n",
    "width, height = load_img(content_image_path).size\n",
    "img_nrows = 400\n",
    "img_ncols = int(width * img_nrows / height)"
   ]
  },
  {
   "cell_type": "code",
   "execution_count": 4,
   "metadata": {},
   "outputs": [],
   "source": [
    "\n",
    "#function to preprocess images into tensors\n",
    "def preprocess_image(image_path):\n",
    "    img = load_img(image_path, target_size=(img_nrows, img_ncols))\n",
    "    img = img_to_array(img)\n",
    "    img = np.expand_dims(img, axis=0)\n",
    "    img = vgg19.preprocess_input(img)\n",
    "    return img\n"
   ]
  },
  {
   "cell_type": "code",
   "execution_count": 5,
   "metadata": {},
   "outputs": [],
   "source": [
    "\n",
    "#function to deprocess tensors into image\n",
    "def deprocess_image(x):\n",
    "    if K.image_data_format() == 'channels_first':\n",
    "        x = x.reshape((3, img_nrows, img_ncols))\n",
    "        x = x.transpose((1, 2, 0))\n",
    "    else:\n",
    "        x = x.reshape((img_nrows, img_ncols, 3))\n",
    "    # Remove zero-center by mean pixel\n",
    "    x[:, :, 0] += 103.939\n",
    "    x[:, :, 1] += 116.779\n",
    "    x[:, :, 2] += 123.68\n",
    "    # 'BGR'->'RGB'\n",
    "    x = x[:, :, ::-1]\n",
    "    x = np.clip(x, 0, 255).astype('uint8')\n",
    "    return x\n"
   ]
  },
  {
   "cell_type": "code",
   "execution_count": 7,
   "metadata": {},
   "outputs": [],
   "source": [
    "\n",
    "#Preprocess the content and style images to tensors\n",
    "content_image = K.variable(preprocess_image(content_image_path))\n",
    "style_image = K.variable(preprocess_image(style_image_path))\n"
   ]
  },
  {
   "cell_type": "code",
   "execution_count": 8,
   "metadata": {},
   "outputs": [],
   "source": [
    "\n",
    "#create and store random generated image\n",
    "if K.image_data_format() == 'channels_first':\n",
    "    generated_image = K.placeholder((1, 3, img_nrows, img_ncols))\n",
    "else:\n",
    "    generated_image = K.placeholder((1, img_nrows, img_ncols, 3))\n",
    "    "
   ]
  },
  {
   "cell_type": "code",
   "execution_count": 9,
   "metadata": {},
   "outputs": [],
   "source": [
    "\n",
    "#Combine the Content,Style,Generated image to push into the VGG19 model at one go\n",
    "input_tensor = K.concatenate([content_image,\n",
    "                              style_image,\n",
    "                              generated_image], axis=0)\n"
   ]
  },
  {
   "cell_type": "code",
   "execution_count": 10,
   "metadata": {},
   "outputs": [],
   "source": [
    "\n",
    "#Load the VGG19 model\n",
    "model = vgg19.VGG19(input_tensor=input_tensor,\n",
    "                    weights='imagenet', include_top=False)\n",
    "\n",
    "#Store the activations of the layers in a dictionary to utilize them at later time \t\t\t\t\t\n",
    "outputs_dict = dict([(layer.name, layer.output) for layer in model.layers])\t\t\t\t\t\n"
   ]
  },
  {
   "cell_type": "code",
   "execution_count": 11,
   "metadata": {},
   "outputs": [],
   "source": [
    "\n",
    "#define the Content loss function\n",
    "def content_loss(content, generated):\n",
    "    return K.sum(K.square(generated - content))\n"
   ]
  },
  {
   "cell_type": "code",
   "execution_count": 12,
   "metadata": {},
   "outputs": [],
   "source": [
    "\n",
    "#Compute the gram matrix function as given in \"A Neural Algorithm of Artistic Style\"\n",
    "def gram_matrix(x):\n",
    "    assert K.ndim(x) == 3\n",
    "    if K.image_data_format() == 'channels_first':\n",
    "        features = K.batch_flatten(x)\n",
    "    else:\n",
    "        features = K.batch_flatten(K.permute_dimensions(x, (2, 0, 1)))\n",
    "    gram = K.dot(features, K.transpose(features))\n",
    "    return gram"
   ]
  },
  {
   "cell_type": "code",
   "execution_count": 13,
   "metadata": {},
   "outputs": [],
   "source": [
    "\n",
    "#define the style loss function with the help of gram matrix function\n",
    "def style_loss(style,generated):\n",
    "    assert K.ndim(style) == 3\n",
    "    assert K.ndim(generated) == 3\n",
    "    S = gram_matrix(style)\n",
    "    C = gram_matrix(generated)\n",
    "    channels = 3\n",
    "    size = img_nrows * img_ncols\n",
    "    return K.sum(K.square(S - C)) / (4.0 * (channels ** 2) * (size ** 2))\t\n"
   ]
  },
  {
   "cell_type": "code",
   "execution_count": 14,
   "metadata": {},
   "outputs": [],
   "source": [
    "\n",
    "#define the total variation loss function to keep image locally coherent\n",
    "#This function is used to denoise the image\n",
    "def total_variation_loss(x):\n",
    "    assert K.ndim(x) == 4\n",
    "    if K.image_data_format() == 'channels_first':\n",
    "        a = K.square(\n",
    "            x[:, :, :img_nrows - 1, :img_ncols - 1] - x[:, :, 1:, :img_ncols - 1])\n",
    "        b = K.square(\n",
    "            x[:, :, :img_nrows - 1, :img_ncols - 1] - x[:, :, :img_nrows - 1, 1:])\n",
    "    else:\n",
    "        a = K.square(\n",
    "            x[:, :img_nrows - 1, :img_ncols - 1, :] - x[:, 1:, :img_ncols - 1, :])\n",
    "        b = K.square(\n",
    "            x[:, :img_nrows - 1, :img_ncols - 1, :] - x[:, :img_nrows - 1, 1:, :])\n",
    "    return K.sum(K.pow(a + b, total_variation_loss_factor))\n"
   ]
  },
  {
   "cell_type": "code",
   "execution_count": 15,
   "metadata": {},
   "outputs": [],
   "source": [
    "\n",
    "#Compute the total loss using the functions\n",
    "#Content loss\n",
    "#block4_con2 is Layer used to compute content loss as given in the reference paper\n",
    "#Middle layers are more suitable for Content reproduction \n",
    "loss = K.variable(0.0)\n",
    "layer_features = outputs_dict['block4_conv2']\n",
    "content_image_features = layer_features[0, :, :, :]\n",
    "generated_image_features = layer_features[2, :, :, :]\n",
    "loss = loss + content_weight_parameter * content_loss(content_image_features,generated_image_features)\n",
    "\n",
    "#Total Variation Loss\n",
    "loss = loss + total_variation_weight * total_variation_loss(generated_image)\n",
    "\n",
    "#Style loss\n",
    "#Style loss is to be computed for the layers Layer1_1,Layer2_1,Layer3_1,Layer4_1,Layer5_1 as given in the reference paper\n",
    "feature_layers = ['block1_conv1', 'block2_conv1',\n",
    "                  'block3_conv1', 'block4_conv1',\n",
    "                  'block5_conv1']\n",
    "for layer_name in feature_layers:\n",
    "    layer_features = outputs_dict[layer_name]\n",
    "    style_reference_features = layer_features[1, :, :, :]\n",
    "    generated_image_features = layer_features[2, :, :, :]\n",
    "    sl = style_loss(style_reference_features, generated_image_features)\n",
    "    loss = loss + (style_weight_parameter / len(feature_layers)) * sl \t\n"
   ]
  },
  {
   "cell_type": "code",
   "execution_count": 16,
   "metadata": {},
   "outputs": [],
   "source": [
    "\n",
    "#get the gradients with respect to the loss of the generated image\n",
    "grads = K.gradients(loss, generated_image)\n",
    "outputs = [loss]\n",
    "if isinstance(grads, (list, tuple)):\n",
    "    outputs += grads\n",
    "else:\n",
    "    outputs.append(grads)\n",
    "\n",
    "f_outputs = K.function([generated_image], outputs)\n"
   ]
  },
  {
   "cell_type": "code",
   "execution_count": 17,
   "metadata": {},
   "outputs": [],
   "source": [
    "\n",
    "#evaluate loss and gradient together and use the values for respective functions\n",
    "def eval_loss_and_grads(x):\n",
    "    if K.image_data_format() == 'channels_first':\n",
    "        x = x.reshape((1, 3, img_nrows, img_ncols))\n",
    "    else:\n",
    "        x = x.reshape((1, img_nrows, img_ncols, 3))\n",
    "    outs = f_outputs([x])\n",
    "    loss_value = outs[0]\n",
    "    if len(outs[1:]) == 1:\n",
    "        grad_values = outs[1].flatten().astype('float64')\n",
    "    else:\n",
    "        grad_values = np.array(outs[1:]).flatten().astype('float64')\n",
    "    return loss_value, grad_values"
   ]
  },
  {
   "cell_type": "code",
   "execution_count": 18,
   "metadata": {},
   "outputs": [],
   "source": [
    "\n",
    "#define the evaluator class and loss and gradient functions\n",
    "class Evaluator(object):\n",
    "\n",
    "    def __init__(self):\n",
    "        self.loss_value = None\n",
    "        self.grads_values = None\n",
    "\n",
    "    def loss(self, x):\n",
    "        assert self.loss_value is None\n",
    "        loss_value, grad_values = eval_loss_and_grads(x)\n",
    "        self.loss_value = loss_value\n",
    "        self.grad_values = grad_values\n",
    "        return self.loss_value\n",
    "\n",
    "    def grads(self, x):\n",
    "        assert self.loss_value is not None\n",
    "        grad_values = np.copy(self.grad_values)\n",
    "        self.loss_value = None\n",
    "        self.grad_values = None\n",
    "        return grad_values\t\t\t\t\t\t\t\t\t\t\t\n"
   ]
  },
  {
   "cell_type": "code",
   "execution_count": 19,
   "metadata": {},
   "outputs": [
    {
     "name": "stdout",
     "output_type": "stream",
     "text": [
      "Iteration 1\n",
      "Current loss value: 658.2416\n",
      "Image saved as iteration_1.png\n",
      "Iteration 1 completed in 86s\n",
      "Iteration 2\n",
      "Current loss value: 583.0019\n",
      "Image saved as iteration_2.png\n",
      "Iteration 2 completed in 106s\n",
      "Iteration 3\n",
      "Current loss value: 558.52576\n",
      "Image saved as iteration_3.png\n",
      "Iteration 3 completed in 142s\n",
      "Iteration 4\n",
      "Current loss value: 544.8826\n",
      "Image saved as iteration_4.png\n",
      "Iteration 4 completed in 139s\n",
      "Iteration 5\n",
      "Current loss value: 536.55444\n",
      "Image saved as iteration_5.png\n",
      "Iteration 5 completed in 144s\n",
      "Iteration 6\n",
      "Current loss value: 529.9153\n",
      "Image saved as iteration_6.png\n",
      "Iteration 6 completed in 135s\n"
     ]
    }
   ],
   "source": [
    "#create object of evaluator\n",
    "evaluator = Evaluator()\n",
    "\n",
    "#run scipy-based optimization (L-BFGS) over the pixels of the generated image instead of the gradient descent as given in the reference paper\n",
    "x = preprocess_image(content_image_path)\n",
    "for i in range(iterations):\n",
    "    print('Iteration', i+1)\n",
    "    start_time = time.time()\n",
    "    x, min_val, info = fmin_l_bfgs_b(evaluator.loss, x.flatten(),\n",
    "                                     fprime=evaluator.grads, maxfun=20)\n",
    "    print('Current loss value:', min_val)\n",
    "    # save generated image\n",
    "    img = deprocess_image(x.copy())\n",
    "    fname ='iteration_%d.png' % (i+1)\n",
    "    save_img(fname, img)\n",
    "    end_time = time.time()\n",
    "    print('Image saved as', fname)\n",
    "    print('Iteration %d completed in %ds' % ((i+1), end_time - start_time))\n",
    "\n",
    "save_img(result_name+'.png',img)\t\t\n"
   ]
  },
  {
   "cell_type": "code",
   "execution_count": null,
   "metadata": {},
   "outputs": [],
   "source": []
  }
 ],
 "metadata": {
  "kernelspec": {
   "display_name": "Python 3",
   "language": "python",
   "name": "python3"
  },
  "language_info": {
   "codemirror_mode": {
    "name": "ipython",
    "version": 3
   },
   "file_extension": ".py",
   "mimetype": "text/x-python",
   "name": "python",
   "nbconvert_exporter": "python",
   "pygments_lexer": "ipython3",
   "version": "3.7.6"
  }
 },
 "nbformat": 4,
 "nbformat_minor": 4
}
